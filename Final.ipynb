{
  "nbformat": 4,
  "nbformat_minor": 0,
  "metadata": {
    "colab": {
      "provenance": []
    },
    "kernelspec": {
      "name": "python3",
      "display_name": "Python 3"
    },
    "language_info": {
      "name": "python"
    },
    "gpuClass": "standard"
  },
  "cells": [
    {
      "cell_type": "code",
      "source": [
        "# !pip install paddlepaddle-gpu -i https://pypi.tuna.tsinghua.edu.cn/simple\n",
        "!pip install paddlepaddle -i https://pypi.tuna.tsinghua.edu.cn/simple\n",
        "!pip install \"paddleocr>=2.0.1\"\n",
        "!pip install pybind11\n",
        "!pip install fastwer\n",
        "!pip install transformers --quiet\n",
        "!pip install Levenshtein --quiet"
      ],
      "metadata": {
        "id": "_HRjtDqE6eTX"
      },
      "execution_count": null,
      "outputs": []
    },
    {
      "cell_type": "code",
      "execution_count": 3,
      "metadata": {
        "id": "YV8DT0gr3k_T"
      },
      "outputs": [],
      "source": [
        "import os\n",
        "import shutil\n",
        "from PIL import Image\n",
        "\n",
        "import torch\n",
        "from io import BytesIO\n",
        "from transformers import VisionEncoderDecoderModel, VisionEncoderDecoderConfig, DonutProcessor\n",
        "import json\n",
        "from tqdm.notebook import tqdm"
      ]
    },
    {
      "cell_type": "code",
      "source": [
        "!git clone https://github.com/Losyash/SROIE-datasetv2.git"
      ],
      "metadata": {
        "id": "4yqVU6gx6iX5"
      },
      "execution_count": null,
      "outputs": []
    },
    {
      "cell_type": "code",
      "source": [
        "sroie_root_dir = './SROIE-datasetv2/'"
      ],
      "metadata": {
        "id": "P3rVfORM7Qpd"
      },
      "execution_count": 4,
      "outputs": []
    },
    {
      "cell_type": "code",
      "source": [
        "# Make dir for test predicted\n",
        "os.mkdir(os.path.join(sroie_root_dir, 'test_predicted'))\n",
        "os.mkdir(os.path.join(sroie_root_dir, 'test_predicted/box/'))\n",
        "os.mkdir(os.path.join(sroie_root_dir, 'test_predicted/entities/'))"
      ],
      "metadata": {
        "id": "LEVzbYFi7Oxf"
      },
      "execution_count": null,
      "outputs": []
    },
    {
      "cell_type": "code",
      "source": [
        "sroie_test_img_dir = os.path.join(sroie_root_dir, 'test/img')\n",
        "sroie_test_pred_ent_dir = os.path.join(sroie_root_dir, 'test_predicted/entities')\n",
        "sroie_test_pred_box_dir = os.path.join(sroie_root_dir, 'test_predicted/box')"
      ],
      "metadata": {
        "id": "8URccFyq7b-c"
      },
      "execution_count": 6,
      "outputs": []
    },
    {
      "cell_type": "code",
      "source": [
        "# Boxes\n",
        "from paddleocr import PaddleOCR\n",
        "\n",
        "ocr = PaddleOCR(use_angle_cls=True, lang='en')"
      ],
      "metadata": {
        "colab": {
          "base_uri": "https://localhost:8080/"
        },
        "id": "yrejRpnD8Gky",
        "outputId": "36383be6-e17d-4917-adb3-d24eb807ffb8"
      },
      "execution_count": 7,
      "outputs": [
        {
          "output_type": "stream",
          "name": "stdout",
          "text": [
            "download https://paddleocr.bj.bcebos.com/PP-OCRv3/english/en_PP-OCRv3_det_infer.tar to /root/.paddleocr/whl/det/en/en_PP-OCRv3_det_infer/en_PP-OCRv3_det_infer.tar\n"
          ]
        },
        {
          "output_type": "stream",
          "name": "stderr",
          "text": [
            "100%|██████████| 4.00M/4.00M [00:04<00:00, 827kiB/s] \n"
          ]
        },
        {
          "output_type": "stream",
          "name": "stdout",
          "text": [
            "download https://paddleocr.bj.bcebos.com/PP-OCRv3/english/en_PP-OCRv3_rec_infer.tar to /root/.paddleocr/whl/rec/en/en_PP-OCRv3_rec_infer/en_PP-OCRv3_rec_infer.tar\n"
          ]
        },
        {
          "output_type": "stream",
          "name": "stderr",
          "text": [
            "100%|██████████| 9.96M/9.96M [00:18<00:00, 546kiB/s] \n"
          ]
        },
        {
          "output_type": "stream",
          "name": "stdout",
          "text": [
            "download https://paddleocr.bj.bcebos.com/dygraph_v2.0/ch/ch_ppocr_mobile_v2.0_cls_infer.tar to /root/.paddleocr/whl/cls/ch_ppocr_mobile_v2.0_cls_infer/ch_ppocr_mobile_v2.0_cls_infer.tar\n"
          ]
        },
        {
          "output_type": "stream",
          "name": "stderr",
          "text": [
            "100%|██████████| 2.19M/2.19M [00:14<00:00, 154kiB/s]"
          ]
        },
        {
          "output_type": "stream",
          "name": "stdout",
          "text": [
            "[2023/01/20 11:33:20] ppocr DEBUG: Namespace(alpha=1.0, benchmark=False, beta=1.0, cls_batch_num=6, cls_image_shape='3, 48, 192', cls_model_dir='/root/.paddleocr/whl/cls/ch_ppocr_mobile_v2.0_cls_infer', cls_thresh=0.9, cpu_threads=10, crop_res_save_dir='./output', det=True, det_algorithm='DB', det_box_type='quad', det_db_box_thresh=0.6, det_db_score_mode='fast', det_db_thresh=0.3, det_db_unclip_ratio=1.5, det_east_cover_thresh=0.1, det_east_nms_thresh=0.2, det_east_score_thresh=0.8, det_limit_side_len=960, det_limit_type='max', det_model_dir='/root/.paddleocr/whl/det/en/en_PP-OCRv3_det_infer', det_pse_box_thresh=0.85, det_pse_min_area=16, det_pse_scale=1, det_pse_thresh=0, det_sast_nms_thresh=0.2, det_sast_score_thresh=0.5, draw_img_save_dir='./inference_results', drop_score=0.5, e2e_algorithm='PGNet', e2e_char_dict_path='./ppocr/utils/ic15_dict.txt', e2e_limit_side_len=768, e2e_limit_type='max', e2e_model_dir=None, e2e_pgnet_mode='fast', e2e_pgnet_score_thresh=0.5, e2e_pgnet_valid_set='totaltext', enable_mkldnn=False, fourier_degree=5, gpu_mem=500, help='==SUPPRESS==', image_dir=None, image_orientation=False, ir_optim=True, kie_algorithm='LayoutXLM', label_list=['0', '180'], lang='en', layout=True, layout_dict_path=None, layout_model_dir=None, layout_nms_threshold=0.5, layout_score_threshold=0.5, max_batch_size=10, max_text_length=25, merge_no_span_structure=True, min_subgraph_size=15, mode='structure', ocr=True, ocr_order_method=None, ocr_version='PP-OCRv3', output='./output', page_num=0, precision='fp32', process_id=0, re_model_dir=None, rec=True, rec_algorithm='SVTR_LCNet', rec_batch_num=6, rec_char_dict_path='/usr/local/lib/python3.8/dist-packages/paddleocr/ppocr/utils/en_dict.txt', rec_image_inverse=True, rec_image_shape='3, 48, 320', rec_model_dir='/root/.paddleocr/whl/rec/en/en_PP-OCRv3_rec_infer', recovery=False, save_crop_res=False, save_log_path='./log_output/', scales=[8, 16, 32], ser_dict_path='../train_data/XFUND/class_list_xfun.txt', ser_model_dir=None, show_log=True, sr_batch_num=1, sr_image_shape='3, 32, 128', sr_model_dir=None, structure_version='PP-StructureV2', table=True, table_algorithm='TableAttn', table_char_dict_path=None, table_max_len=488, table_model_dir=None, total_process_num=1, type='ocr', use_angle_cls=True, use_dilation=False, use_gpu=False, use_mp=False, use_npu=False, use_onnx=False, use_pdf2docx_api=False, use_pdserving=False, use_space_char=True, use_tensorrt=False, use_visual_backbone=True, use_xpu=False, vis_font_path='./doc/fonts/simfang.ttf', warmup=False)\n"
          ]
        },
        {
          "output_type": "stream",
          "name": "stderr",
          "text": [
            "\n"
          ]
        }
      ]
    },
    {
      "cell_type": "code",
      "source": [
        "processor = DonutProcessor.from_pretrained(\"unstructuredio/donut-base-sroie\")\n",
        "pretrained_model = VisionEncoderDecoderModel.from_pretrained(\"unstructuredio/donut-base-sroie\")\n",
        "\n",
        "device = \"cuda\" if torch.cuda.is_available() else \"cpu\"\n",
        "pretrained_model.to(device)"
      ],
      "metadata": {
        "id": "os65v-ql8LGs"
      },
      "execution_count": null,
      "outputs": []
    },
    {
      "cell_type": "code",
      "source": [
        "def make_box_file(file_name):\n",
        "\n",
        "    result = ocr.ocr(f'{sroie_test_img_dir}/{file_name}', cls=True)\n",
        "    file_name_2 = file_name.split('.')[0] + '-1.txt'\n",
        "\n",
        "    with open(f'{sroie_test_pred_box_dir}/{file_name_2}', \"w\") as file:\n",
        "        for i in range(len(result)):\n",
        "            res = result[i]\n",
        "\n",
        "            for line in res:\n",
        "                data = []\n",
        "\n",
        "                for j in range(len(line[0])):\n",
        "                    coords = line[0][j]\n",
        "\n",
        "                    data.append(str(int(coords[0])))\n",
        "                    data.append(str(int(coords[1])))\n",
        "\n",
        "                data.append(str(line[1][0]).upper())\n",
        "                file.write((',').join(data) + '\\n')    "
      ],
      "metadata": {
        "id": "5QM-HKoM9YMn"
      },
      "execution_count": 20,
      "outputs": []
    },
    {
      "cell_type": "code",
      "source": [
        "def make_entities_file(file_name):\n",
        "    global pretrained_model, processor\n",
        "\n",
        "    path_to_test_img = os.path.join(sroie_test_img_dir, file_name)\n",
        "    image = Image.open(path_to_test_img).convert(\"RGB\")\n",
        "\n",
        "    task_prompt = f\"<s>\"\n",
        "    pixel_values = processor(image, return_tensors=\"pt\").pixel_values\n",
        "    decoder_input_ids = processor.tokenizer(task_prompt, add_special_tokens=False, return_tensors=\"pt\").input_ids\n",
        "\n",
        "    # run inference\n",
        "    outputs = pretrained_model.generate(\n",
        "        pixel_values.to(device),\n",
        "        decoder_input_ids=decoder_input_ids.to(device),\n",
        "        max_length=pretrained_model.decoder.config.max_position_embeddings,\n",
        "        early_stopping=True,\n",
        "        pad_token_id=processor.tokenizer.pad_token_id,\n",
        "        eos_token_id=processor.tokenizer.eos_token_id,\n",
        "        use_cache=True,\n",
        "        num_beams=1,\n",
        "        bad_words_ids=[[processor.tokenizer.unk_token_id]],\n",
        "        return_dict_in_generate=True,\n",
        "    )\n",
        "\n",
        "    # process output\n",
        "    prediction = processor.batch_decode(outputs.sequences)[0]\n",
        "    prediction = processor.token2json(prediction)\n",
        "    prediction = dict(sorted(prediction.items()))\n",
        "\n",
        "    for key in ['address', 'company', 'date', 'total']:\n",
        "        if key not in prediction:\n",
        "            prediction[key] = ''\n",
        "\n",
        "    file_name_2 = file_name.split('.')[0] + '-2.txt'\n",
        "\n",
        "    path_to_test_pred_file = os.path.join(sroie_test_pred_ent_dir, file_name_2)\n",
        "    with open(path_to_test_pred_file, \"w\") as fp:\n",
        "        json.dump(prediction, fp) \n"
      ],
      "metadata": {
        "id": "O5MZG07l-_5N"
      },
      "execution_count": 22,
      "outputs": []
    },
    {
      "cell_type": "code",
      "source": [
        "for file_name in tqdm(os.listdir(sroie_test_img_dir)):\n",
        "    make_box_file(file_name)\n",
        "    make_entities_file(file_name)\n",
        "\n",
        "print('Done')"
      ],
      "metadata": {
        "id": "0EJfEots6n3V"
      },
      "execution_count": null,
      "outputs": []
    }
  ]
}